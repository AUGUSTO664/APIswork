{
 "cells": [
  {
   "cell_type": "code",
   "execution_count": 1,
   "metadata": {},
   "outputs": [],
   "source": [
    "#importing the libraries\n",
    "import requests"
   ]
  },
  {
   "cell_type": "code",
   "execution_count": 2,
   "metadata": {},
   "outputs": [],
   "source": [
    "#when we make a request, the response from the API comes with \n",
    "# a response code which tell us whether our request was successful.\n",
    "# to make a \"GET\" request we'll use the resquests.get()\n",
    "response = requests.get(\"http://api.open-notify.org/this-api-does-not-exist\")"
   ]
  },
  {
   "cell_type": "code",
   "execution_count": 3,
   "metadata": {},
   "outputs": [
    {
     "name": "stdout",
     "output_type": "stream",
     "text": [
      "404\n"
     ]
    }
   ],
   "source": [
    "#The get() function returns a response object. we can use \n",
    "# the response.status_code attribute to recieve the status code\n",
    "#for our request\n",
    "print(response.status_code)"
   ]
  },
  {
   "cell_type": "markdown",
   "metadata": {},
   "source": [
    "# API status code \n",
    "\n",
    "status code are returned with every request that is made to \n",
    "a web server. Status codes indicate information about what\n",
    "happened with a request\n",
    "\n",
    "- 200: Everything went okay, and the result has been returned\n",
    "- 301: the server is redirecting you to a different endpoint\n",
    "- 400: The server thinks you made a bad request\n",
    "- 401: The server thinks you are not authenticated.\n",
    "- 403: The resource you are trying to access is forbiden\n",
    "- 403: The resource you tried to to access was not found on the server\n",
    "- 503: The server is not ready to handle the request. "
   ]
  },
  {
   "cell_type": "code",
   "execution_count": 4,
   "metadata": {},
   "outputs": [
    {
     "name": "stdout",
     "output_type": "stream",
     "text": [
      "200\n"
     ]
    }
   ],
   "source": [
    "response = requests.get(\"http://api.open-notify.org/astros.json\")\n",
    "print(response.status_code)"
   ]
  },
  {
   "cell_type": "code",
   "execution_count": 5,
   "metadata": {},
   "outputs": [
    {
     "name": "stdout",
     "output_type": "stream",
     "text": [
      "{'message': 'success', 'number': 7, 'people': [{'craft': 'ISS', 'name': 'Sergey Ryzhikov'}, {'craft': 'ISS', 'name': 'Kate Rubins'}, {'craft': 'ISS', 'name': 'Sergey Kud-Sverchkov'}, {'craft': 'ISS', 'name': 'Mike Hopkins'}, {'craft': 'ISS', 'name': 'Victor Glover'}, {'craft': 'ISS', 'name': 'Shannon Walker'}, {'craft': 'ISS', 'name': 'Soichi Noguchi'}]}\n"
     ]
    }
   ],
   "source": [
    "#with the response.json() method we can see the data\n",
    "print(response.json())"
   ]
  },
  {
   "cell_type": "code",
   "execution_count": null,
   "metadata": {},
   "outputs": [],
   "source": [
    "# The json library has two main functions\n",
    "# -json.dumps()-Takes in a Python object, and converts(dumps) it to a string\n",
    "# -json.loads()-takes a JSON string, and converts(loads) it to a Python object.\n"
   ]
  },
  {
   "cell_type": "code",
   "execution_count": 6,
   "metadata": {},
   "outputs": [
    {
     "name": "stdout",
     "output_type": "stream",
     "text": [
      "{\n",
      "    \"message\": \"success\",\n",
      "    \"number\": 7,\n",
      "    \"people\": [\n",
      "        {\n",
      "            \"craft\": \"ISS\",\n",
      "            \"name\": \"Sergey Ryzhikov\"\n",
      "        },\n",
      "        {\n",
      "            \"craft\": \"ISS\",\n",
      "            \"name\": \"Kate Rubins\"\n",
      "        },\n",
      "        {\n",
      "            \"craft\": \"ISS\",\n",
      "            \"name\": \"Sergey Kud-Sverchkov\"\n",
      "        },\n",
      "        {\n",
      "            \"craft\": \"ISS\",\n",
      "            \"name\": \"Mike Hopkins\"\n",
      "        },\n",
      "        {\n",
      "            \"craft\": \"ISS\",\n",
      "            \"name\": \"Victor Glover\"\n",
      "        },\n",
      "        {\n",
      "            \"craft\": \"ISS\",\n",
      "            \"name\": \"Shannon Walker\"\n",
      "        },\n",
      "        {\n",
      "            \"craft\": \"ISS\",\n",
      "            \"name\": \"Soichi Noguchi\"\n",
      "        }\n",
      "    ]\n",
      "}\n"
     ]
    }
   ],
   "source": [
    "import json\n",
    "\n",
    "def jprint(obj):\n",
    "    #create a formatted string of the Python JSON object\n",
    "    text = json.dumps(obj, sort_keys=True, indent=4)\n",
    "    print(text)\n",
    "    \n",
    "jprint(response.json())"
   ]
  },
  {
   "cell_type": "code",
   "execution_count": 13,
   "metadata": {},
   "outputs": [],
   "source": [
    "#Using an API with Query Parameters\n",
    "parameters = {\n",
    "\n",
    "    \"lat\": 21.020542,\n",
    "    \"lon\": -89.881180\n",
    "}"
   ]
  },
  {
   "cell_type": "code",
   "execution_count": 14,
   "metadata": {},
   "outputs": [
    {
     "name": "stdout",
     "output_type": "stream",
     "text": [
      "{\n",
      "    \"message\": \"success\",\n",
      "    \"request\": {\n",
      "        \"altitude\": 100,\n",
      "        \"datetime\": 1611173270,\n",
      "        \"latitude\": 21.020542,\n",
      "        \"longitude\": -89.88118,\n",
      "        \"passes\": 5\n",
      "    },\n",
      "    \"response\": [\n",
      "        {\n",
      "            \"duration\": 642,\n",
      "            \"risetime\": 1611180508\n",
      "        },\n",
      "        {\n",
      "            \"duration\": 507,\n",
      "            \"risetime\": 1611186391\n",
      "        },\n",
      "        {\n",
      "            \"duration\": 434,\n",
      "            \"risetime\": 1611210217\n",
      "        },\n",
      "        {\n",
      "            \"duration\": 651,\n",
      "            \"risetime\": 1611215934\n",
      "        },\n",
      "        {\n",
      "            \"duration\": 262,\n",
      "            \"risetime\": 1611221906\n",
      "        }\n",
      "    ]\n",
      "}\n"
     ]
    }
   ],
   "source": [
    "response = requests.get(\"http://api.open-notify.org/iss-pass.json\", params=parameters)\n",
    "jprint(response.json())"
   ]
  },
  {
   "cell_type": "code",
   "execution_count": 15,
   "metadata": {},
   "outputs": [
    {
     "name": "stdout",
     "output_type": "stream",
     "text": [
      "[\n",
      "    {\n",
      "        \"duration\": 642,\n",
      "        \"risetime\": 1611180508\n",
      "    },\n",
      "    {\n",
      "        \"duration\": 507,\n",
      "        \"risetime\": 1611186391\n",
      "    },\n",
      "    {\n",
      "        \"duration\": 434,\n",
      "        \"risetime\": 1611210217\n",
      "    },\n",
      "    {\n",
      "        \"duration\": 651,\n",
      "        \"risetime\": 1611215934\n",
      "    },\n",
      "    {\n",
      "        \"duration\": 262,\n",
      "        \"risetime\": 1611221906\n",
      "    }\n",
      "]\n"
     ]
    }
   ],
   "source": [
    "#understanding the pass times\n",
    "#let's extract the pass times from our JSON object\n",
    "pass_times = response.json()[\"response\"]\n",
    "jprint(pass_times)"
   ]
  },
  {
   "cell_type": "code",
   "execution_count": 16,
   "metadata": {},
   "outputs": [
    {
     "name": "stdout",
     "output_type": "stream",
     "text": [
      "[1611180508, 1611186391, 1611210217, 1611215934, 1611221906]\n"
     ]
    }
   ],
   "source": [
    "#Next we'll use a loop to extract just the five risetime values\n",
    "risetimes = []\n",
    "\n",
    "for d in pass_times:\n",
    "    time = d[\"risetime\"]\n",
    "    risetimes.append(time)\n",
    "print(risetimes)"
   ]
  },
  {
   "cell_type": "code",
   "execution_count": 17,
   "metadata": {},
   "outputs": [
    {
     "name": "stdout",
     "output_type": "stream",
     "text": [
      "2021-01-20 16:08:28\n",
      "2021-01-20 17:46:31\n",
      "2021-01-21 00:23:37\n",
      "2021-01-21 01:58:54\n",
      "2021-01-21 03:38:26\n"
     ]
    }
   ],
   "source": [
    "#These times are in a format known as timestamp or epoch\n",
    "#essentially the time is measured in the number of seconds since \n",
    "#january 1st 1970\n",
    "from datetime import datetime\n",
    "times = []\n",
    "\n",
    "for rt in risetimes:\n",
    "    time = datetime.fromtimestamp(rt)\n",
    "    times.append(time)\n",
    "    print(time )\n"
   ]
  },
  {
   "cell_type": "code",
   "execution_count": null,
   "metadata": {},
   "outputs": [],
   "source": []
  },
  {
   "cell_type": "code",
   "execution_count": null,
   "metadata": {},
   "outputs": [],
   "source": []
  },
  {
   "cell_type": "code",
   "execution_count": null,
   "metadata": {},
   "outputs": [],
   "source": []
  },
  {
   "cell_type": "code",
   "execution_count": null,
   "metadata": {},
   "outputs": [],
   "source": []
  },
  {
   "cell_type": "code",
   "execution_count": null,
   "metadata": {},
   "outputs": [],
   "source": []
  },
  {
   "cell_type": "code",
   "execution_count": null,
   "metadata": {},
   "outputs": [],
   "source": []
  },
  {
   "cell_type": "code",
   "execution_count": null,
   "metadata": {},
   "outputs": [],
   "source": []
  },
  {
   "cell_type": "code",
   "execution_count": null,
   "metadata": {},
   "outputs": [],
   "source": []
  }
 ],
 "metadata": {
  "kernelspec": {
   "display_name": "Python 3",
   "language": "python",
   "name": "python3"
  },
  "language_info": {
   "codemirror_mode": {
    "name": "ipython",
    "version": 3
   },
   "file_extension": ".py",
   "mimetype": "text/x-python",
   "name": "python",
   "nbconvert_exporter": "python",
   "pygments_lexer": "ipython3",
   "version": "3.8.5"
  }
 },
 "nbformat": 4,
 "nbformat_minor": 4
}

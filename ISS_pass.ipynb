{
 "cells": [
  {
   "cell_type": "markdown",
   "metadata": {},
   "source": [
    "# ISS_PASS"
   ]
  },
  {
   "cell_type": "code",
   "execution_count": 4,
   "metadata": {},
   "outputs": [],
   "source": [
    "import requests\n",
    "import json \n",
    "from datetime import datetime\n",
    "from geopy.geocoders import Nominatim"
   ]
  },
  {
   "cell_type": "code",
   "execution_count": 5,
   "metadata": {},
   "outputs": [],
   "source": [
    "def iss_pass(lon,lat):\n",
    "    #This function tells us when the ISS will pass over an specific coordinates\n",
    "    #Using the Nasa API which is available on internet.\n",
    "    #setting the parameters for the API\n",
    "    parameters = {\n",
    "        \"lat\":lon,\n",
    "        \"lon\":lat\n",
    "    }\n",
    "    \n",
    "#lets make a request using these coordinates and see what response\n",
    "#we get\n",
    "    \n",
    "    response = requests.get(\"http://api.open-notify.org/iss-pass.json\", params=parameters)\n",
    "    \n",
    "    #Let's extract the pass time from our JSON object: \n",
    "    #pass_times = response.json()[\"response\"]\n",
    "    #finding the position's name\n",
    "    city = get_city(string(lon,lat))\n",
    "    print(\"looking for International Space Station\")\n",
    "    print(\"The ISS will pass over {} with lon={},lat={} following this schedule\".format(city,lon,lat))\n",
    "    hours = iss_hour(response.json()[\"response\"])\n",
    "        \n",
    "        \n",
    "        \n",
    "        \n",
    "    \n",
    "    "
   ]
  },
  {
   "cell_type": "code",
   "execution_count": 6,
   "metadata": {},
   "outputs": [],
   "source": [
    "def iss_hour(pass_times):\n",
    "    #Let's extract the pass time from our JSON object:\n",
    "    rise_time = []\n",
    "    for d in pass_times:\n",
    "        time = d[\"risetime\"]\n",
    "        rise_time.append(time)\n",
    "        \n",
    "    #once we have extracted the hour, we need to convertthem in other format\n",
    "    #Ther are in a format known as timestamp or epoch\n",
    "    times = []\n",
    "    for rt in rise_time:\n",
    "        time = datetime.fromtimestamp(rt)\n",
    "        times.append(time)\n",
    "        print(time)\n",
    "        \n",
    "    return times\n",
    "    "
   ]
  },
  {
   "cell_type": "code",
   "execution_count": 7,
   "metadata": {},
   "outputs": [],
   "source": [
    "def get_city(position):\n",
    "    geolocator = Nominatim(user_agent=\"sample app\")\n",
    "    rub = str(geolocator.reverse(position))\n",
    "    return rub\n"
   ]
  },
  {
   "cell_type": "code",
   "execution_count": 8,
   "metadata": {},
   "outputs": [],
   "source": [
    "def string(lon,lat):\n",
    "    #This function prepare the location \n",
    "    #for the geolocator\n",
    "    a = str(lon)\n",
    "    b = str(lat)\n",
    "    pos = a+\",\"+b\n",
    "    return pos"
   ]
  },
  {
   "cell_type": "code",
   "execution_count": 9,
   "metadata": {},
   "outputs": [],
   "source": [
    "def jprint(obj):\n",
    "    #create a formatted string of the Python JSON object\n",
    "    text = json.dumps(obj, sort_keys=True, indent=4)"
   ]
  },
  {
   "cell_type": "code",
   "execution_count": 10,
   "metadata": {},
   "outputs": [
    {
     "name": "stdout",
     "output_type": "stream",
     "text": [
      "2021-01-20 20:31:28\n",
      "2021-01-20 22:05:46\n",
      "2021-01-20 23:43:37\n",
      "2021-01-21 11:28:47\n",
      "2021-01-21 13:04:18\n"
     ]
    }
   ],
   "source": [
    "#21.110336233375875, 143.20992538648662\n",
    "lon = -21.110336233375875\n",
    "lat = 143.20992538648662\n",
    "pos1 = {\n",
    "    \"lat\":lon,\n",
    "    \"lon\":lat\n",
    "}\n",
    "response1 = requests.get(\"http://api.open-notify.org/iss-pass.json\",params=pos1)\n",
    "hours = iss_hour(response1.json()[\"response\"])\n",
    "#rint(hours)"
   ]
  },
  {
   "cell_type": "code",
   "execution_count": 11,
   "metadata": {},
   "outputs": [
    {
     "name": "stdout",
     "output_type": "stream",
     "text": [
      "Richmond, Richmond Shire, Queensland, 4822, Australia\n"
     ]
    }
   ],
   "source": [
    "example = get_city(string(lon,lat))\n",
    "print(example)\n"
   ]
  },
  {
   "cell_type": "code",
   "execution_count": 12,
   "metadata": {},
   "outputs": [
    {
     "name": "stdout",
     "output_type": "stream",
     "text": [
      "looking for International Space Station\n",
      "The ISS will pass over Richmond, Richmond Shire, Queensland, 4822, Australia with lon=-21.110336233375875,lat=143.20992538648662 following this schedule\n",
      "2021-01-20 20:31:28\n",
      "2021-01-20 22:05:46\n",
      "2021-01-20 23:43:37\n",
      "2021-01-21 11:28:47\n",
      "2021-01-21 13:04:18\n"
     ]
    }
   ],
   "source": [
    "iss_pass(lon,lat)"
   ]
  },
  {
   "cell_type": "code",
   "execution_count": 13,
   "metadata": {},
   "outputs": [
    {
     "name": "stdout",
     "output_type": "stream",
     "text": [
      "looking for International Space Station\n",
      "The ISS will pass over Kalimantan Timur, Indonesia with lon=1.19940863422992,lat=114.24345193231444 following this schedule\n",
      "2021-01-21 01:19:15\n",
      "2021-01-21 02:57:57\n",
      "2021-01-21 12:54:55\n",
      "2021-01-21 14:33:11\n",
      "2021-01-22 00:31:55\n"
     ]
    }
   ],
   "source": [
    "lon1 = 1.19940863422992\n",
    "lat2= 114.24345193231444\n",
    "iss_pass(lon1,lat2)"
   ]
  },
  {
   "cell_type": "code",
   "execution_count": null,
   "metadata": {},
   "outputs": [],
   "source": [
    "15.082363769709774, 77.23758777516106"
   ]
  }
 ],
 "metadata": {
  "kernelspec": {
   "display_name": "Python 3",
   "language": "python",
   "name": "python3"
  },
  "language_info": {
   "codemirror_mode": {
    "name": "ipython",
    "version": 3
   },
   "file_extension": ".py",
   "mimetype": "text/x-python",
   "name": "python",
   "nbconvert_exporter": "python",
   "pygments_lexer": "ipython3",
   "version": "3.8.5"
  }
 },
 "nbformat": 4,
 "nbformat_minor": 4
}
